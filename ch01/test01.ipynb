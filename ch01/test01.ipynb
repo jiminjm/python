{
 "cells": [
  {
   "cell_type": "code",
   "execution_count": 1,
   "id": "f253bc22-c194-4311-810a-3771d6b33c7b",
   "metadata": {},
   "outputs": [
    {
     "name": "stdout",
     "output_type": "stream",
     "text": [
      "hello world\n"
     ]
    }
   ],
   "source": [
    "print('hello world')"
   ]
  },
  {
   "cell_type": "markdown",
   "id": "557c12f0-7762-4c2e-9df2-6afe0c74ad34",
   "metadata": {},
   "source": [
    "# 반복문"
   ]
  },
  {
   "cell_type": "code",
   "execution_count": 2,
   "id": "7f0c5ce3-33c1-4c7b-89d5-02b6a4bc0dad",
   "metadata": {},
   "outputs": [
    {
     "name": "stdout",
     "output_type": "stream",
     "text": [
      "0\n",
      "1\n",
      "2\n",
      "3\n",
      "4\n",
      "5\n",
      "6\n",
      "7\n",
      "8\n",
      "9\n"
     ]
    }
   ],
   "source": [
    "for i in range(10):\n",
    "    print(i)"
   ]
  },
  {
   "cell_type": "markdown",
   "id": "dcaa73ec-b39f-4a1c-9beb-96022eb09015",
   "metadata": {},
   "source": [
    "# hello world\n",
    "## hello world\n",
    "### hello world\n",
    "#### hello world\n",
    "##### hello world"
   ]
  },
  {
   "cell_type": "code",
   "execution_count": null,
   "id": "5dc18887-5423-418d-b0ec-4dbdf14318b2",
   "metadata": {},
   "outputs": [],
   "source": []
  },
  {
   "cell_type": "code",
   "execution_count": null,
   "id": "df6bf9ae-5412-45ae-b2a2-36837d64ee54",
   "metadata": {},
   "outputs": [],
   "source": []
  }
 ],
 "metadata": {
  "kernelspec": {
   "display_name": "Python 3 (ipykernel)",
   "language": "python",
   "name": "python3"
  },
  "language_info": {
   "codemirror_mode": {
    "name": "ipython",
    "version": 3
   },
   "file_extension": ".py",
   "mimetype": "text/x-python",
   "name": "python",
   "nbconvert_exporter": "python",
   "pygments_lexer": "ipython3",
   "version": "3.10.16"
  }
 },
 "nbformat": 4,
 "nbformat_minor": 5
}
